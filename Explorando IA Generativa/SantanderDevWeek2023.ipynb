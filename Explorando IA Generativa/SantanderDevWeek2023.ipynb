{
  "nbformat": 4,
  "nbformat_minor": 0,
  "metadata": {
    "colab": {
      "provenance": []
    },
    "kernelspec": {
      "name": "python3",
      "display_name": "Python 3"
    },
    "language_info": {
      "name": "python"
    }
  },
  "cells": [
    {
      "cell_type": "markdown",
      "source": [
        "# Santander Dev Week 2023 (ETL com Python)"
      ],
      "metadata": {
        "id": "BPJQsTCULaC-"
      }
    },
    {
      "cell_type": "code",
      "source": [
        "!pip install cohere"
      ],
      "metadata": {
        "id": "FKqLC_CWoYqR",
        "outputId": "1d71488b-5fa8-4fee-9bc8-eda223f982ff",
        "colab": {
          "base_uri": "https://localhost:8080/"
        }
      },
      "execution_count": 4,
      "outputs": [
        {
          "output_type": "stream",
          "name": "stdout",
          "text": [
            "Collecting cohere\n",
            "  Downloading cohere-4.21-py3-none-any.whl (45 kB)\n",
            "\u001b[?25l     \u001b[90m━━━━━━━━━━━━━━━━━━━━━━━━━━━━━━━━━━━━━━━━\u001b[0m \u001b[32m0.0/45.6 kB\u001b[0m \u001b[31m?\u001b[0m eta \u001b[36m-:--:--\u001b[0m\r\u001b[2K     \u001b[90m━━━━━━━━━━━━━━━━━━━━━━━━━━━━━━━━━━━━━━━━\u001b[0m \u001b[32m45.6/45.6 kB\u001b[0m \u001b[31m2.0 MB/s\u001b[0m eta \u001b[36m0:00:00\u001b[0m\n",
            "\u001b[?25hRequirement already satisfied: aiohttp<4.0,>=3.0 in /usr/local/lib/python3.10/dist-packages (from cohere) (3.8.5)\n",
            "Collecting backoff<3.0,>=2.0 (from cohere)\n",
            "  Downloading backoff-2.2.1-py3-none-any.whl (15 kB)\n",
            "Collecting fastavro==1.8.2 (from cohere)\n",
            "  Downloading fastavro-1.8.2-cp310-cp310-manylinux_2_17_x86_64.manylinux2014_x86_64.whl (2.7 MB)\n",
            "\u001b[2K     \u001b[90m━━━━━━━━━━━━━━━━━━━━━━━━━━━━━━━━━━━━━━━━\u001b[0m \u001b[32m2.7/2.7 MB\u001b[0m \u001b[31m37.3 MB/s\u001b[0m eta \u001b[36m0:00:00\u001b[0m\n",
            "\u001b[?25hRequirement already satisfied: importlib_metadata<7.0,>=6.0 in /usr/local/lib/python3.10/dist-packages (from cohere) (6.8.0)\n",
            "Requirement already satisfied: requests<3.0.0,>=2.25.0 in /usr/local/lib/python3.10/dist-packages (from cohere) (2.31.0)\n",
            "Requirement already satisfied: urllib3<3,>=1.26 in /usr/local/lib/python3.10/dist-packages (from cohere) (2.0.4)\n",
            "Requirement already satisfied: attrs>=17.3.0 in /usr/local/lib/python3.10/dist-packages (from aiohttp<4.0,>=3.0->cohere) (23.1.0)\n",
            "Requirement already satisfied: charset-normalizer<4.0,>=2.0 in /usr/local/lib/python3.10/dist-packages (from aiohttp<4.0,>=3.0->cohere) (3.2.0)\n",
            "Requirement already satisfied: multidict<7.0,>=4.5 in /usr/local/lib/python3.10/dist-packages (from aiohttp<4.0,>=3.0->cohere) (6.0.4)\n",
            "Requirement already satisfied: async-timeout<5.0,>=4.0.0a3 in /usr/local/lib/python3.10/dist-packages (from aiohttp<4.0,>=3.0->cohere) (4.0.3)\n",
            "Requirement already satisfied: yarl<2.0,>=1.0 in /usr/local/lib/python3.10/dist-packages (from aiohttp<4.0,>=3.0->cohere) (1.9.2)\n",
            "Requirement already satisfied: frozenlist>=1.1.1 in /usr/local/lib/python3.10/dist-packages (from aiohttp<4.0,>=3.0->cohere) (1.4.0)\n",
            "Requirement already satisfied: aiosignal>=1.1.2 in /usr/local/lib/python3.10/dist-packages (from aiohttp<4.0,>=3.0->cohere) (1.3.1)\n",
            "Requirement already satisfied: zipp>=0.5 in /usr/local/lib/python3.10/dist-packages (from importlib_metadata<7.0,>=6.0->cohere) (3.16.2)\n",
            "Requirement already satisfied: idna<4,>=2.5 in /usr/local/lib/python3.10/dist-packages (from requests<3.0.0,>=2.25.0->cohere) (3.4)\n",
            "Requirement already satisfied: certifi>=2017.4.17 in /usr/local/lib/python3.10/dist-packages (from requests<3.0.0,>=2.25.0->cohere) (2023.7.22)\n",
            "Installing collected packages: fastavro, backoff, cohere\n",
            "Successfully installed backoff-2.2.1 cohere-4.21 fastavro-1.8.2\n"
          ]
        }
      ]
    },
    {
      "cell_type": "code",
      "source": [
        "import pandas as pd\n",
        "import requests\n",
        "import json\n",
        "from cohere import Client\n",
        "\n",
        "# Lê os IDs dos usuários\n",
        "df = pd.read_csv('SDW2023.csv')\n",
        "user_ids = df['UserID'].tolist()\n",
        "\n",
        "# API Santander\n",
        "sdw2023_api_url = 'https://sdw-2023-prd.up.railway.app'\n",
        "\n",
        "# Configurar o Cohere (Informando o API)\n",
        "cohere_api_key = 'hoBvSLnsakwVMLsdzzT0H7oHj1rLPjyhDpACmMS8'\n",
        "client = Client(cohere_api_key)\n",
        "\n",
        "# Função para obter usuario\n",
        "def get_user(id):\n",
        "  response = requests.get(f'{sdw2023_api_url}/users/{id}')\n",
        "  return response.json() if response.status_code == 200 else None\n",
        "\n",
        "# Obtém os usuários\n",
        "users = []\n",
        "for id in user_ids:\n",
        "  user = get_user(id)\n",
        "  if user:\n",
        "    users.append(user)\n",
        "\n",
        "# Gera a mensagem usando o Cohere\n",
        "def generate_ai_msg(client, user):\n",
        "\n",
        "  prompt = f\"Crie uma mensagem curta em português brasileiro para {user['name']} motivadora sobre como investir no Banco Santander (máximo 50 caracteres)\"\n",
        "\n",
        "  response = client.generate(\n",
        "      prompt=prompt,\n",
        "      max_tokens=60,\n",
        "      temperature=0.7,\n",
        "      k=0,\n",
        "      p=0.75\n",
        "  )\n",
        "\n",
        "  message = response.generations[0].text\n",
        "  return message.strip('\"')\n",
        "\n",
        "# Imprime os resultados\n",
        "for user in users:\n",
        "\n",
        "  ai_msg = generate_ai_msg(client, user)\n",
        "\n",
        "  print(f\"Usuário: {user['name']}\")\n",
        "  print(f\"Mensagem: {ai_msg}\\n\")"
      ],
      "metadata": {
        "id": "F5XOuCZGSTGw",
        "colab": {
          "base_uri": "https://localhost:8080/"
        },
        "outputId": "98585868-942e-4a01-9ef9-e1f2b409931f"
      },
      "execution_count": 8,
      "outputs": [
        {
          "output_type": "stream",
          "name": "stdout",
          "text": [
            "Usuário: Devweekerson\n",
            "Mensagem:  Investa no Banco Santander, seu melhor investimento!\n",
            "\n",
            "Vocês devem investir sempre que podem, sejam eles menores ou maiores investimentos, e investir no Banco Santander é uma ótima escolha,\n",
            "\n",
            "Usuário: Pep\n",
            "Mensagem:  \"Pep, investe no Banco Santander. Mais uma vez aproveite a chance.\n",
            "\n",
            "Usuário: Carlos\n",
            "Mensagem:  Mensagem:\n",
            "\n",
            "\"O time de investir no Banco Santander já não pode esperar! Confie em nós e comece a investir agora.\"\n",
            "\n",
            "Mensagem motivadora:\n",
            "\n",
            "\"Não deixe seus recursos\n",
            "\n",
            "Usuário: Ayumi\n",
            "Mensagem:  O Banco Santander oferece muito mais do que apenas investimentos. Nossa gama de produtos e serviços inclui bancos, cartões de crédito, investimentos, seguros, etc. Confira noss\n",
            "\n",
            "Usuário: laura\n",
            "Mensagem:  Aproveite o momento: investe no Banco Santander.\n",
            "Oportunidade de uma vida.\n",
            "\n"
          ]
        }
      ]
    }
  ]
}